{
 "metadata": {
  "kernelspec": {
   "display_name": "SQL",
   "language": "sql",
   "name": "sql"
  },
  "lastEditStatus": {
   "notebookId": "jkevrect3gquajbe2dmc",
   "authorId": "796694457951",
   "authorName": "SERVICE",
   "authorEmail": "alex.ross@snowflake.com",
   "sessionId": "636e4b6a-94af-4867-8659-32a87712474b",
   "lastEditTime": 1746609030279
  }
 },
 "nbformat_minor": 5,
 "nbformat": 4,
 "cells": [
  {
   "cell_type": "markdown",
   "id": "b26d9f7b-e03f-49dd-b6e4-72aba080dd13",
   "metadata": {
    "name": "cell18",
    "collapsed": false
   },
   "source": "# 🚀 Unleashing the Power of Cortex LLMs at JLP: A Mind-Blowing Demo 🎉\n\nGet ready to explore the cutting-edge capabilities of **Cortex Large Language Models (LLMs)** — where next-gen AI meets limitless potential.\n"
  },
  {
   "cell_type": "markdown",
   "id": "8e1c316c-2956-4971-8b45-83c64fbcb7de",
   "metadata": {
    "name": "cell7",
    "collapsed": false
   },
   "source": "# 🛠️ RAW Layer - Build RAW tables from internal Stage"
  },
  {
   "cell_type": "code",
   "execution_count": null,
   "id": "1770d853-9e09-4ae2-badb-35bc5de3cd67",
   "metadata": {
    "language": "sql",
    "name": "cell1"
   },
   "outputs": [],
   "source": "-- 🎯 Raw Data Tables - The foundation of our data castle\nCREATE OR REPLACE TRANSIENT TABLE RAW.CUSTOMER_INTERACTIONS (data VARIANT);\nCREATE OR REPLACE TRANSIENT TABLE RAW.PRODUCT_REVIEWS (data VARIANT);\nCREATE OR REPLACE TRANSIENT TABLE RAW.SUPPORT_TICKETS (data VARIANT);\nCREATE OR REPLACE TRANSIENT TABLE RAW.CUSTOMERS (data VARIANT);\n\n-- 📥 Data Loading - Let's fill these tables with good vibes\nCOPY INTO RAW.CUSTOMER_INTERACTIONS\nFROM @RAW.RAW_DATA_STAGE/customer_interactions.json\nFILE_FORMAT = RAW.JSON_FORMAT\nON_ERROR = 'CONTINUE';\n\nCOPY INTO RAW.PRODUCT_REVIEWS\nFROM @RAW.RAW_DATA_STAGE/product_reviews.json\nFILE_FORMAT = RAW.JSON_FORMAT\nON_ERROR = 'CONTINUE';\n\nCOPY INTO RAW.SUPPORT_TICKETS\nFROM @RAW.RAW_DATA_STAGE/support_tickets.json\nFILE_FORMAT = RAW.JSON_FORMAT\nON_ERROR = 'CONTINUE';\n\nCOPY INTO RAW.CUSTOMERS\nFROM @RAW.RAW_DATA_STAGE/customers.json\nFILE_FORMAT = RAW.JSON_FORMAT\nON_ERROR = 'CONTINUE';"
  },
  {
   "cell_type": "markdown",
   "id": "aaf0a120-f924-4231-9fc0-9b3da8f43015",
   "metadata": {
    "name": "cell24",
    "collapsed": false
   },
   "source": "# 🧹 CONFORM Layer - Clean and transform that data!"
  },
  {
   "cell_type": "code",
   "execution_count": null,
   "id": "1f1ca305-350b-4c25-8741-e3f1503b29bf",
   "metadata": {
    "language": "sql",
    "name": "cell4"
   },
   "outputs": [],
   "source": "-- Customer Interactions\nCREATE OR REPLACE TABLE ANALYTICS.STG_CUSTOMER_INTERACTIONS AS\nSELECT\n    data:interaction_id::VARCHAR AS interaction_id,\n    data:customer_id::VARCHAR AS customer_id,\n    TRY_TO_TIMESTAMP_NTZ(data:interaction_date::VARCHAR) AS interaction_date,\n    data:agent_id::VARCHAR AS agent_id,\n    data:interaction_type::VARCHAR AS interaction_type,\n    data:interaction_notes::VARCHAR AS interaction_notes\nFROM RAW.CUSTOMER_INTERACTIONS;\n\n-- Product Reviews\nCREATE OR REPLACE TABLE ANALYTICS.STG_PRODUCT_REVIEWS AS\nSELECT\n    data:review_id::VARCHAR AS review_id,\n    data:customer_id::VARCHAR AS customer_id,\n    data:product_id::VARCHAR AS product_id,\n    TRY_TO_TIMESTAMP_NTZ(data:review_date::VARCHAR) AS review_date,\n    data:review_rating::NUMBER AS review_rating,\n    data:review_text::VARCHAR AS review_text,\n    data:review_language::VARCHAR AS review_language\nFROM RAW.PRODUCT_REVIEWS;\n\n-- Support Tickets\nCREATE OR REPLACE TABLE ANALYTICS.STG_SUPPORT_TICKETS AS\nSELECT\n    data:ticket_id::VARCHAR AS ticket_id,\n    data:customer_id::VARCHAR AS customer_id,\n    TRY_TO_TIMESTAMP_NTZ(data:ticket_date::VARCHAR) AS ticket_date,\n    data:ticket_status::VARCHAR AS ticket_status,\n    data:ticket_category::VARCHAR AS ticket_category,\n    data:ticket_description::VARCHAR AS ticket_description\nFROM RAW.SUPPORT_TICKETS;\n\n-- Customer Dimension\nCREATE OR REPLACE TABLE ANALYTICS.CUSTOMER_BASE AS\nSELECT\n    data:customer_id::VARCHAR AS customer_id,\n    data:persona::VARCHAR AS persona,\n    TRY_TO_DATE(data:sign_up_date::VARCHAR) AS sign_up_date,\n    data:products_owned::NUMBER AS products_owned,\n    data:lifetime_value::NUMBER AS lifetime_value\nFROM RAW.CUSTOMERS;"
  },
  {
   "cell_type": "markdown",
   "id": "af36c117-be86-4b36-bc1d-12d160795f6d",
   "metadata": {
    "name": "cell3",
    "collapsed": false
   },
   "source": "# 📊 CONSUME Layer -  Fact Tables (where the real insights live)"
  },
  {
   "cell_type": "code",
   "execution_count": null,
   "id": "63be21fd-8b1a-49bc-adf1-29314d824a28",
   "metadata": {
    "language": "sql",
    "name": "cell9"
   },
   "outputs": [],
   "source": "-- Customer Interactions Fact\nCREATE OR REPLACE TABLE ANALYTICS.FACT_CUSTOMER_INTERACTIONS AS\nSELECT\n    i.interaction_id,\n    i.customer_id,\n    i.interaction_date,\n    i.agent_id,\n    i.interaction_type,\n    i.interaction_notes,\n    -- Add sentiment analysis\n    SNOWFLAKE.CORTEX.SENTIMENT(i.interaction_notes) AS sentiment_score\nFROM ANALYTICS.STG_CUSTOMER_INTERACTIONS i\nWHERE i.interaction_notes IS NOT NULL;"
  },
  {
   "cell_type": "code",
   "execution_count": null,
   "id": "cd44a77f-bacb-43f7-9051-8d9304362a5a",
   "metadata": {
    "language": "sql",
    "name": "cell10"
   },
   "outputs": [],
   "source": "-- Product Reviews Fact\nCREATE OR REPLACE TABLE ANALYTICS.FACT_PRODUCT_REVIEWS AS\nSELECT\n    r.review_id,\n    r.customer_id,\n    r.product_id,\n    r.review_date,\n    r.review_rating,\n    r.review_text,\n    r.review_language,\n    -- Add sentiment analysis\n    SNOWFLAKE.CORTEX.SENTIMENT(r.review_text) AS sentiment_score,\n    -- Add standardized text\n    CASE\n        WHEN CONTAINS(LOWER(r.review_language), 'german') THEN SNOWFLAKE.CORTEX.TRANSLATE(r.review_text, 'de', 'en')\n        WHEN CONTAINS(LOWER(r.review_language), 'french') THEN SNOWFLAKE.CORTEX.TRANSLATE(r.review_text, 'fr', 'en')\n        WHEN CONTAINS(LOWER(r.review_language), 'spanish') THEN SNOWFLAKE.CORTEX.TRANSLATE(r.review_text, 'es', 'en')\n        WHEN CONTAINS(LOWER(r.review_language), 'italian') THEN SNOWFLAKE.CORTEX.TRANSLATE(r.review_text, 'it', 'en')\n        WHEN CONTAINS(LOWER(r.review_language), 'portuguese') THEN SNOWFLAKE.CORTEX.TRANSLATE(r.review_text, 'pt', 'en')\n        WHEN CONTAINS(LOWER(r.review_language), 'chinese') THEN SNOWFLAKE.CORTEX.TRANSLATE(r.review_text, 'zh', 'en')\n        WHEN CONTAINS(LOWER(r.review_language), 'japanese') THEN SNOWFLAKE.CORTEX.TRANSLATE(r.review_text, 'ja', 'en')\n        WHEN CONTAINS(LOWER(r.review_language), 'korean') THEN SNOWFLAKE.CORTEX.TRANSLATE(r.review_text, 'ko', 'en')\n        WHEN CONTAINS(LOWER(r.review_language), 'russian') THEN SNOWFLAKE.CORTEX.TRANSLATE(r.review_text, 'ru', 'en')\n        WHEN CONTAINS(LOWER(r.review_language), 'arabic') THEN SNOWFLAKE.CORTEX.TRANSLATE(r.review_text, 'ar', 'en')\n        ELSE r.review_text\n    END AS review_text_english\nFROM ANALYTICS.STG_PRODUCT_REVIEWS r\nWHERE r.review_text IS NOT NULL LIMIT 10;"
  },
  {
   "cell_type": "code",
   "execution_count": null,
   "id": "3439a860-cd57-4388-9998-22ad4c12210f",
   "metadata": {
    "language": "sql",
    "name": "cell11"
   },
   "outputs": [],
   "source": "-- Support Tickets Fact\nCREATE OR REPLACE TABLE ANALYTICS.FACT_SUPPORT_TICKETS AS\nSELECT\n    t.ticket_id,\n    t.customer_id,\n    t.ticket_date,\n    t.ticket_status,\n    t.ticket_category,\n    t.ticket_description,\n    -- Add sentiment analysis\n    SNOWFLAKE.CORTEX.SENTIMENT(t.ticket_description) AS sentiment_score,\n    -- Add priority classification\n    SNOWFLAKE.CORTEX.CLASSIFY_TEXT(\n        t.ticket_description,\n        [\n            {\n                'label': 'Critical',\n                'description': 'Requires immediate attention and resolution',\n                'examples': [\n                    'System is down and customers cannot place orders',\n                    'Security breach detected',\n                    'Payment processing completely stopped',\n                    'All users locked out of the system',\n                    'Cannot access my account',\n                    'Order stuck in processing',\n                    'Payment failed',\n                    'Website not loading',\n                    'Critical feature not working',\n                    'Data loss or corruption'\n                ]\n            },\n            {\n                'label': 'High',\n                'description': 'Should be resolved within 24 hours',\n                'examples': [\n                    'Customer cannot complete checkout',\n                    'Order status stuck in processing',\n                    'Unable to access account',\n                    'Payment failed for multiple customers',\n                    'Product not working as expected',\n                    'Account access issues',\n                    'Billing problems',\n                    'Service disruption',\n                    'Performance issues',\n                    'Security concerns'\n                ]\n            },\n            {\n                'label': 'Medium',\n                'description': 'Should be resolved within 3 days',\n                'examples': [\n                    'Product image not displaying correctly',\n                    'Slow response times in certain areas',\n                    'Minor UI issues',\n                    'Account settings not saving',\n                    'Feature not working as expected',\n                    'Minor display issues',\n                    'Non-critical performance problems',\n                    'General functionality questions',\n                    'Minor account issues',\n                    'Non-urgent technical problems'\n                ]\n            },\n            {\n                'label': 'Low',\n                'description': 'Can be handled in regular queue',\n                'examples': [\n                    'General product questions',\n                    'Feature request',\n                    'UI enhancement suggestion',\n                    'Documentation clarification',\n                    'How-to questions',\n                    'Product information request',\n                    'General feedback',\n                    'Non-technical questions',\n                    'Account information request',\n                    'General support questions'\n                ]\n            }\n        ],\n        {\n            'task_description': 'Classify the urgency level of this support ticket based on its description. When in doubt, classify as Critical or High priority if the issue affects core functionality or user access.'\n        }\n    )['label'] AS priority_level,\n    -- Add customer expectations\n    SNOWFLAKE.CORTEX.COMPLETE(\n        'claude-3-5-sonnet',\n        'What specific timeframe or deadline does the customer mention or expect for resolution? ' || t.ticket_description\n    ) AS expected_resolution_timeframe,\n    SNOWFLAKE.CORTEX.COMPLETE(\n        'claude-3-5-sonnet',\n        'What compensation, refund, or specific remedy is the customer seeking? ' || t.ticket_description\n    ) AS requested_remedy\nFROM ANALYTICS.STG_SUPPORT_TICKETS t\nWHERE t.ticket_description IS NOT NULL LIMIT 10;"
  },
  {
   "cell_type": "markdown",
   "id": "3c5b5b36-b5b3-4401-930e-884f20fafa16",
   "metadata": {
    "name": "cell6",
    "collapsed": false
   },
   "source": "# 🔍 CONSUME Layer - Time to dig deep!"
  },
  {
   "cell_type": "markdown",
   "id": "6f702b93-bf1c-482b-861b-23d339514f65",
   "metadata": {
    "name": "cell5",
    "collapsed": false
   },
   "source": ""
  },
  {
   "cell_type": "code",
   "execution_count": null,
   "id": "6e5ab8ac-e3f7-49f0-b85f-17b714994a10",
   "metadata": {
    "language": "sql",
    "name": "cell13"
   },
   "outputs": [],
   "source": "-- Sentiment Analysis\nCREATE OR REPLACE TABLE ANALYTICS.SENTIMENT_ANALYSIS AS\nWITH interaction_sentiment AS (\n    SELECT\n        customer_id,\n        interaction_date,\n        sentiment_score,\n        'interaction' AS source_type\n    FROM ANALYTICS.FACT_CUSTOMER_INTERACTIONS\n),\nreview_sentiment AS (\n    SELECT\n        customer_id,\n        review_date AS interaction_date,\n        sentiment_score,\n        'review' AS source_type\n    FROM ANALYTICS.FACT_PRODUCT_REVIEWS\n),\nticket_sentiment AS (\n    SELECT\n        customer_id,\n        ticket_date AS interaction_date,\n        sentiment_score,\n        'ticket' AS source_type\n    FROM ANALYTICS.FACT_SUPPORT_TICKETS\n)\nSELECT * FROM interaction_sentiment\nUNION ALL\nSELECT * FROM review_sentiment\nUNION ALL\nSELECT * FROM ticket_sentiment;"
  },
  {
   "cell_type": "code",
   "execution_count": null,
   "id": "91fb2a6c-d4a5-4519-8548-daee8595a427",
   "metadata": {
    "language": "sql",
    "name": "cell14"
   },
   "outputs": [],
   "source": "-- Sentiment Trends Analysis\nCREATE OR REPLACE TABLE ANALYTICS.SENTIMENT_TRENDS AS\nWITH sentiment_data AS (\n    SELECT\n        customer_id,\n        sentiment_score,\n        interaction_date,\n        FIRST_VALUE(sentiment_score) OVER (PARTITION BY customer_id ORDER BY interaction_date) AS first_sentiment,\n        LAST_VALUE(sentiment_score) OVER (PARTITION BY customer_id ORDER BY interaction_date \n                                         ROWS BETWEEN UNBOUNDED PRECEDING AND UNBOUNDED FOLLOWING) AS last_sentiment\n    FROM ANALYTICS.SENTIMENT_ANALYSIS\n)\nSELECT\n    customer_id,\n    ARRAY_AGG(sentiment_score) WITHIN GROUP (ORDER BY interaction_date) AS sentiment_history,\n    AVG(sentiment_score) AS avg_sentiment,\n    MIN(sentiment_score) AS min_sentiment,\n    MAX(sentiment_score) AS max_sentiment,\n    MAX(sentiment_score) - MIN(sentiment_score) AS sentiment_volatility,\n    CASE\n        WHEN COUNT(*) > 1 THEN \n            MAX(last_sentiment) - MAX(first_sentiment)\n        ELSE 0\n    END AS sentiment_trend\nFROM sentiment_data\nGROUP BY customer_id;"
  },
  {
   "cell_type": "code",
   "execution_count": null,
   "id": "e72536ea-2381-4f0e-96cd-b7a2f5b01eba",
   "metadata": {
    "language": "sql",
    "name": "cell15"
   },
   "outputs": [],
   "source": "-- Ticket Pattern Analysis\nCREATE OR REPLACE TABLE ANALYTICS.TICKET_PATTERNS AS\nSELECT\n    customer_id,\n    COUNT(*) AS ticket_count,\n    MIN(ticket_date) AS first_ticket_date,\n    MAX(ticket_date) AS most_recent_ticket_date,\n    ARRAY_AGG(ticket_category) WITHIN GROUP (ORDER BY ticket_date) AS ticket_categories,\n    ARRAY_AGG(priority_level) WITHIN GROUP (ORDER BY ticket_date) AS ticket_priorities\nFROM ANALYTICS.FACT_SUPPORT_TICKETS\nGROUP BY customer_id;"
  },
  {
   "cell_type": "code",
   "execution_count": null,
   "id": "93952d0b-24fa-4e16-9cec-a4be0ccd36ac",
   "metadata": {
    "language": "sql",
    "name": "cell16"
   },
   "outputs": [],
   "source": "-- Customer Insight Summaries\nCREATE OR REPLACE TABLE ANALYTICS.INSIGHT_SUMMARIES AS\nSELECT\n    customer_id,\n    SNOWFLAKE.CORTEX.COMPLETE(\n        'claude-3-5-sonnet',\n        [\n            {\n                'role': 'user',\n                'content': 'Summarize the following customer interactions in 100 words or less: ' || \n                ARRAY_TO_STRING(\n                    ARRAY_AGG(\n                        CASE\n                            WHEN interaction_notes IS NOT NULL THEN interaction_notes\n                            WHEN review_text IS NOT NULL THEN review_text\n                            WHEN ticket_description IS NOT NULL THEN ticket_description\n                        END\n                    ),\n                    ' | '\n                )\n            }\n        ],\n        {\n            'max_tokens': 100\n        }\n    ) AS customer_summary\nFROM (\n    SELECT customer_id, interaction_notes, NULL as review_text, NULL as ticket_description\n    FROM ANALYTICS.FACT_CUSTOMER_INTERACTIONS\n    UNION ALL\n    SELECT customer_id, NULL, review_text, NULL\n    FROM ANALYTICS.FACT_PRODUCT_REVIEWS\n    UNION ALL\n    SELECT customer_id, NULL, NULL, ticket_description\n    FROM ANALYTICS.FACT_SUPPORT_TICKETS LIMIT 10\n)\nGROUP BY customer_id;"
  },
  {
   "cell_type": "code",
   "execution_count": null,
   "id": "55dcea28-9b0e-43f9-9ca2-2292efe7222e",
   "metadata": {
    "language": "sql",
    "name": "cell17"
   },
   "outputs": [],
   "source": "-- 👥 Customer Persona Analysis - Get to know your peeps\nCREATE OR REPLACE TABLE ANALYTICS.CUSTOMER_PERSONA_SIGNALS AS\nSELECT \n    cb.customer_id,\n    \n    -- Sentiment analysis\n    st.avg_sentiment,\n    st.sentiment_trend,\n    st.sentiment_volatility,\n    CASE \n        WHEN st.avg_sentiment < -0.3 THEN 'Negative'\n        WHEN st.avg_sentiment > 0.3 THEN 'Positive'\n        ELSE 'Neutral'\n    END AS overall_sentiment,\n    \n    -- Support history\n    tpat.ticket_count,\n    tpat.ticket_categories,\n    tpat.ticket_priorities,\n    \n    -- Review ratings\n    AVG(pr.review_rating) AS avg_rating,\n    \n    -- Customer summary\n    is_summary.customer_summary,\n    \n    -- Customer persona\n    CASE\n        WHEN st.avg_sentiment > 0.5 AND COALESCE(tpat.ticket_count, 0) <= 1 THEN 'Satisfied'\n        WHEN st.avg_sentiment < -0.3 AND COALESCE(tpat.ticket_count, 0) >= 3 THEN 'Frustrated'\n        WHEN st.sentiment_volatility > 0.7 THEN 'Mixed'\n        WHEN st.sentiment_trend > 0.3 THEN 'Improving'\n        WHEN st.sentiment_trend < -0.3 THEN 'Deteriorating'\n        ELSE 'Neutral'\n    END AS derived_persona,\n    \n    -- Churn risk\n    CASE\n        WHEN (st.avg_sentiment < -0.3 AND COALESCE(tpat.ticket_count, 0) >= 1) \n             OR (st.sentiment_trend < -0.2 AND COALESCE(tpat.ticket_count, 0) >= 1)\n             OR (st.avg_sentiment < -0.2 AND st.sentiment_trend < -0.1) THEN 'High'\n        WHEN (st.avg_sentiment < -0.1 AND st.sentiment_trend < 0) \n             OR (COALESCE(tpat.ticket_count, 0) >= 2) THEN 'Medium'\n        ELSE 'Low'\n    END AS churn_risk,\n    \n    -- Upsell opportunity\n    CASE\n        WHEN st.avg_sentiment > 0.3 AND COALESCE(tpat.ticket_count, 0) <= 1 THEN 'High'\n        WHEN st.sentiment_trend > 0.3 THEN 'Medium'\n        ELSE 'Low'\n    END AS upsell_opportunity\nFROM ANALYTICS.CUSTOMER_BASE cb\nLEFT JOIN ANALYTICS.SENTIMENT_TRENDS st USING (customer_id)\nLEFT JOIN ANALYTICS.INSIGHT_SUMMARIES is_summary USING (customer_id)\nLEFT JOIN ANALYTICS.TICKET_PATTERNS tpat USING (customer_id)\nLEFT JOIN ANALYTICS.FACT_PRODUCT_REVIEWS pr USING (customer_id)\nGROUP BY \n    cb.customer_id, \n    st.avg_sentiment, \n    st.sentiment_trend, \n    st.sentiment_volatility,\n    tpat.ticket_count,\n    tpat.ticket_categories,\n    tpat.ticket_priorities,\n    is_summary.customer_summary;\n\nCREATE OR REPLACE DATABASE DBT_CORTEX_LLMS CLONE CLONE_DBT_CORTEX_LLMS_1000;\n"
  },
  {
   "cell_type": "markdown",
   "id": "b8502633-47a6-4348-b2f0-ee3ad4f2f474",
   "metadata": {
    "collapsed": false,
    "name": "cell26"
   },
   "source": "# 🎯 Time to Get Some Sweet Insights!"
  },
  {
   "cell_type": "code",
   "execution_count": null,
   "id": "855d8b99-5db9-4291-93d3-fc4190da13e4",
   "metadata": {
    "language": "sql",
    "name": "cell19"
   },
   "outputs": [],
   "source": "-- 1. 📊 Customer Vibes Overview - How's everyone feeling?\nSELECT \n    overall_sentiment,\n    COUNT(*) as customer_count,\n    ROUND(AVG(avg_sentiment), 2) as avg_sentiment_score,\n    ROUND(AVG(avg_rating), 2) as avg_product_rating\nFROM ANALYTICS.CUSTOMER_PERSONA_SIGNALS\nGROUP BY overall_sentiment\nORDER BY customer_count DESC;"
  },
  {
   "cell_type": "code",
   "execution_count": null,
   "id": "87bb9d27-9622-4b83-be3c-0fe138c17d6d",
   "metadata": {
    "language": "sql",
    "name": "cell20"
   },
   "outputs": [],
   "source": "-- 2. 🚨 Churn Risk Check - Who's thinking about ghosting us?\nSELECT \n    churn_risk,\n    COUNT(*) as customer_count,\n    ROUND(AVG(avg_sentiment), 2) as avg_sentiment_score,\n    ROUND(AVG(sentiment_trend), 2) as avg_sentiment_trend,\n    SUM(ticket_count) as total_tickets,\n    ROUND(AVG(ticket_count), 1) as avg_tickets_per_customer,\n    COUNT(CASE WHEN overall_sentiment = 'Negative' THEN 1 END) as negative_sentiment_count,\n    COUNT(CASE WHEN overall_sentiment = 'Positive' THEN 1 END) as positive_sentiment_count\nFROM ANALYTICS.CUSTOMER_PERSONA_SIGNALS\nGROUP BY churn_risk\nORDER BY total_tickets DESC, avg_sentiment_score ASC\nLIMIT 10;"
  },
  {
   "cell_type": "code",
   "execution_count": null,
   "id": "d6b44987-f4fa-4e22-8e1f-599cd0de3b3c",
   "metadata": {
    "language": "sql",
    "name": "cell21"
   },
   "outputs": [],
   "source": "-- 3. 🎫 Support Ticket Heat Map - What's hot in the support queue?\nSELECT \n    priority_level,\n    COUNT(*) as ticket_count,\n    ROUND(AVG(sentiment_score), 2) as avg_sentiment,\n    COUNT(DISTINCT customer_id) as unique_customers\nFROM ANALYTICS.FACT_SUPPORT_TICKETS\nGROUP BY priority_level\nORDER BY \n    CASE priority_level\n        WHEN 'Critical' THEN 1\n        WHEN 'High' THEN 2\n        WHEN 'Medium' THEN 3\n        WHEN 'Low' THEN 4\n    END;"
  },
  {
   "cell_type": "code",
   "execution_count": null,
   "id": "6749bca3-3224-46f9-b363-96c2e245b144",
   "metadata": {
    "language": "sql",
    "name": "cell22"
   },
   "outputs": [],
   "source": "-- 4. 🗺️ Customer Journey Map - Plot those customer adventures\nWITH customer_journey AS (\n    SELECT \n        cps.customer_id,\n        cps.derived_persona,\n        cps.churn_risk,\n        cps.upsell_opportunity,\n        cps.avg_sentiment,\n        cps.sentiment_trend,\n        cps.ticket_count,\n        cps.avg_rating,\n        cps.customer_summary\n    FROM ANALYTICS.CUSTOMER_PERSONA_SIGNALS cps\n)\nSELECT \n    derived_persona,\n    churn_risk,\n    upsell_opportunity,\n    COUNT(*) as customer_count,\n    ROUND(AVG(avg_sentiment), 2) as avg_sentiment,\n    ROUND(AVG(avg_rating), 2) as avg_rating,\n    ROUND(AVG(ticket_count), 2) as avg_tickets\nFROM customer_journey\nGROUP BY derived_persona, churn_risk, upsell_opportunity\nORDER BY customer_count DESC;"
  },
  {
   "cell_type": "code",
   "execution_count": null,
   "id": "4e574803-227c-44f5-b609-aab2e8826099",
   "metadata": {
    "language": "sql",
    "name": "cell23"
   },
   "outputs": [],
   "source": "-- 5. 🌍 Global Customer Vibes - How's the love worldwide?\nSELECT \n    review_language,\n    COUNT(*) as review_count,\n    ROUND(AVG(review_rating), 2) as avg_rating,\n    ROUND(AVG(sentiment_score), 2) as avg_sentiment,\n    COUNT(DISTINCT customer_id) as unique_customers\nFROM ANALYTICS.FACT_PRODUCT_REVIEWS\nGROUP BY review_language\nORDER BY review_count DESC;"
  },
  {
   "cell_type": "markdown",
   "id": "042ec1cd-2349-4791-9cdc-c351ad77e2ca",
   "metadata": {
    "name": "cell25",
    "collapsed": false
   },
   "source": "![Streamlit Logo](https://streamlit.io/images/brand/streamlit-logo-primary-colormark-darktext.png) \n# Streamlit Time!\n"
  },
  {
   "cell_type": "code",
   "id": "3d503edb-28d4-43b9-a0ea-417a6f4def3b",
   "metadata": {
    "language": "python",
    "name": "cell8"
   },
   "outputs": [],
   "source": "import streamlit as st\nimport altair as alt\nfrom snowflake.snowpark.context import get_active_session\n\n# Get Snowflake session\nsession = get_active_session()\n\n# SQL query\nquery = \"\"\"\nSELECT \n    priority_level,\n    COUNT(*) AS ticket_count,\n    ROUND(AVG(sentiment_score), 2) AS avg_sentiment,\n    COUNT(DISTINCT customer_id) AS unique_customers\nFROM ANALYTICS.FACT_SUPPORT_TICKETS\nGROUP BY priority_level\nORDER BY \n    CASE priority_level\n        WHEN 'Critical' THEN 1\n        WHEN 'High' THEN 2\n        WHEN 'Medium' THEN 3\n        WHEN 'Low' THEN 4\n    END;\n\"\"\"\n\n# Run query\ndf = session.sql(query).to_pandas()\n\n# Clean and enforce column types\ndf.columns = df.columns.str.strip().str.lower()\ndf['priority_level'] = df['priority_level'].astype(str)\ndf['ticket_count'] = df['ticket_count'].astype(int)\n\n# Streamlit display\nst.title(\"📊 Support Tickets by Priority Level\")\n\nchart = alt.Chart(df).mark_bar().encode(\n    x=alt.X(\"priority_level:N\", title=\"Priority Level\", sort=[\"Critical\", \"High\", \"Medium\", \"Low\"]),\n    y=alt.Y(\"ticket_count:Q\", title=\"Number of Tickets\"),\n    color=\"priority_level:N\"\n).properties(width=600)\n\nst.altair_chart(chart, use_container_width=True)\nst.dataframe(df)\n",
   "execution_count": null
  },
  {
   "cell_type": "code",
   "id": "2584f3a5-3d96-4f7a-9601-12052b6bee1e",
   "metadata": {
    "language": "python",
    "name": "cell27"
   },
   "outputs": [],
   "source": "import streamlit as st\nimport altair as alt\nfrom snowflake.snowpark.context import get_active_session\n\n# Get Snowflake session\nsession = get_active_session()\n\n# SQL query to analyze customer personas\nquery = \"\"\"\nWITH customer_journey AS (\n    SELECT \n        cps.customer_id,\n        cps.derived_persona,\n        cps.churn_risk,\n        cps.upsell_opportunity,\n        cps.avg_sentiment,\n        cps.sentiment_trend,\n        cps.ticket_count,\n        cps.avg_rating,\n        cps.customer_summary\n    FROM ANALYTICS.CUSTOMER_PERSONA_SIGNALS cps\n)\nSELECT \n    derived_persona,\n    churn_risk,\n    upsell_opportunity,\n    COUNT(*) as customer_count,\n    ROUND(AVG(avg_sentiment), 2) as avg_sentiment,\n    ROUND(AVG(avg_rating), 2) as avg_rating,\n    ROUND(AVG(ticket_count), 2) as avg_tickets\nFROM customer_journey\nGROUP BY derived_persona, churn_risk, upsell_opportunity\nORDER BY customer_count DESC;\n\"\"\"\n\n# Run query and convert to pandas DataFrame\ndf = session.sql(query).to_pandas()\n\n# Clean column names and ensure correct data types\ndf.columns = df.columns.str.strip().str.lower()\ndf['churn_risk'] = df['churn_risk'].astype(str)\ndf['upsell_opportunity'] = df['upsell_opportunity'].astype(str)\ndf['derived_persona'] = df['derived_persona'].astype(str)\n\n# Streamlit UI\nst.title(\"🧭 Customer Segments by Churn Risk and Upsell Opportunity\")\n\nheatmap = alt.Chart(df).mark_rect().encode(\n    x=alt.X(\"churn_risk:N\", title=\"Churn Risk\"),\n    y=alt.Y(\"upsell_opportunity:N\", title=\"Upsell Opportunity\"),\n    color=alt.Color(\"customer_count:Q\", scale=alt.Scale(scheme=\"blues\")),\n    tooltip=[\n        alt.Tooltip(\"derived_persona:N\", title=\"Persona\"),\n        alt.Tooltip(\"customer_count:Q\", title=\"Customer Count\"),\n        alt.Tooltip(\"avg_rating:Q\", title=\"Avg Rating\"),\n        alt.Tooltip(\"avg_sentiment:Q\", title=\"Avg Sentiment\")\n    ]\n).properties(width=600, height=400)\n\nst.altair_chart(heatmap, use_container_width=True)\nst.dataframe(df)\n",
   "execution_count": null
  }
 ]
}